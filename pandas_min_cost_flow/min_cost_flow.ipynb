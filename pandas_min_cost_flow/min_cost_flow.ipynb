{
 "cells": [
  {
   "cell_type": "code",
   "execution_count": 1,
   "metadata": {},
   "outputs": [],
   "source": [
    "! min_cost_flow.py"
   ]
  },
  {
   "cell_type": "code",
   "execution_count": 4,
   "metadata": {},
   "outputs": [
    {
     "name": "stdout",
     "output_type": "stream",
     "text": [
      "ERROR: Rule failed when generating expression for Objective OBJ with index\n",
      "None: AttributeError: 'DataFrame' object has no attribute 'ix'\n",
      "ERROR: Constructing component 'OBJ' from data=None failed: AttributeError:\n",
      "'DataFrame' object has no attribute 'ix'\n"
     ]
    },
    {
     "name": "stderr",
     "output_type": "stream",
     "text": [
      "Traceback (most recent call last):\n",
      "  File \"c:\\Users\\omara\\OneDrive - Egypt Japan University Of Science and Technology (E-JUST)\\Documents\\GitHub\\PyomoGallery\\pandas_min_cost_flow\\min_cost_flow.py\", line 86, in <module>\n",
      "    sp = MinCostFlow('nodes.csv', 'arcs.csv') \n",
      "         ^^^^^^^^^^^^^^^^^^^^^^^^^^^^^^^^^^^^\n",
      "  File \"c:\\Users\\omara\\OneDrive - Egypt Japan University Of Science and Technology (E-JUST)\\Documents\\GitHub\\PyomoGallery\\pandas_min_cost_flow\\min_cost_flow.py\", line 32, in __init__\n",
      "    self.createModel()\n",
      "  File \"c:\\Users\\omara\\OneDrive - Egypt Japan University Of Science and Technology (E-JUST)\\Documents\\GitHub\\PyomoGallery\\pandas_min_cost_flow\\min_cost_flow.py\", line 48, in createModel\n",
      "    self.m.OBJ = pe.Objective(rule=obj_rule, sense=pe.minimize)\n",
      "    ^^^^^^^^^^\n",
      "  File \"c:\\Users\\omara\\anaconda3\\Lib\\site-packages\\pyomo\\core\\base\\block.py\", line 580, in __setattr__\n",
      "    self.add_component(name, val)\n",
      "  File \"c:\\Users\\omara\\anaconda3\\Lib\\site-packages\\pyomo\\core\\base\\block.py\", line 1185, in add_component\n",
      "    val.construct(data)\n",
      "  File \"c:\\Users\\omara\\anaconda3\\Lib\\site-packages\\pyomo\\core\\base\\objective.py\", line 327, in construct\n",
      "    ans = self._setitem_when_not_present(index, rule(block, index))\n",
      "                                                ^^^^^^^^^^^^^^^^^^\n",
      "  File \"c:\\Users\\omara\\anaconda3\\Lib\\site-packages\\pyomo\\core\\base\\initializer.py\", line 438, in __call__\n",
      "    return self._fcn(parent)\n",
      "           ^^^^^^^^^^^^^^^^^\n",
      "  File \"c:\\Users\\omara\\OneDrive - Egypt Japan University Of Science and Technology (E-JUST)\\Documents\\GitHub\\PyomoGallery\\pandas_min_cost_flow\\min_cost_flow.py\", line 47, in obj_rule\n",
      "    return sum(m.Y[e] * self.arc_data.ix[e,'Cost'] for e in self.arc_set)\n",
      "           ^^^^^^^^^^^^^^^^^^^^^^^^^^^^^^^^^^^^^^^^^^^^^^^^^^^^^^^^^^^^^^\n",
      "  File \"c:\\Users\\omara\\OneDrive - Egypt Japan University Of Science and Technology (E-JUST)\\Documents\\GitHub\\PyomoGallery\\pandas_min_cost_flow\\min_cost_flow.py\", line 47, in <genexpr>\n",
      "    return sum(m.Y[e] * self.arc_data.ix[e,'Cost'] for e in self.arc_set)\n",
      "                        ^^^^^^^^^^^^^^^^\n",
      "  File \"c:\\Users\\omara\\anaconda3\\Lib\\site-packages\\pandas\\core\\generic.py\", line 5989, in __getattr__\n",
      "    return object.__getattribute__(self, name)\n",
      "           ^^^^^^^^^^^^^^^^^^^^^^^^^^^^^^^^^^^\n",
      "AttributeError: 'DataFrame' object has no attribute 'ix'\n"
     ]
    }
   ],
   "source": [
    "!python min_cost_flow.py"
   ]
  },
  {
   "cell_type": "code",
   "execution_count": null,
   "metadata": {},
   "outputs": [],
   "source": []
  }
 ],
 "metadata": {
  "kernelspec": {
   "display_name": "Python 3",
   "language": "python",
   "name": "python3"
  },
  "language_info": {
   "codemirror_mode": {
    "name": "ipython",
    "version": 3
   },
   "file_extension": ".py",
   "mimetype": "text/x-python",
   "name": "python",
   "nbconvert_exporter": "python",
   "pygments_lexer": "ipython3",
   "version": "3.11.5"
  }
 },
 "nbformat": 4,
 "nbformat_minor": 1
}
