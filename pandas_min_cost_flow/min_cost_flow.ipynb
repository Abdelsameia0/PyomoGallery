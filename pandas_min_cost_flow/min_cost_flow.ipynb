{
 "cells": [
  {
   "cell_type": "code",
   "execution_count": 1,
   "metadata": {},
   "outputs": [
    {
     "name": "stderr",
     "output_type": "stream",
     "text": [
      "'cat' is not recognized as an internal or external command,\n",
      "operable program or batch file.\n"
     ]
    }
   ],
   "source": [
    "!cat min_cost_flow.py"
   ]
  },
  {
   "cell_type": "code",
   "execution_count": 2,
   "metadata": {},
   "outputs": [
    {
     "name": "stdout",
     "output_type": "stream",
     "text": [
      "No parameters matching 'mip_tolerances_integrality' found\r\n",
      "No parameters matching 'mip_tolerances_mipgap' found\r\n",
      "Optimize a model with 7 rows, 8 columns and 16 nonzeros\r\n",
      "Coefficient statistics:\r\n",
      "  Matrix range    [1e+00, 1e+00]\r\n",
      "  Objective range [1e+00, 5e+00]\r\n",
      "  Bounds range    [0e+00, 0e+00]\r\n",
      "  RHS range       [1e+00, 1e+00]\r\n",
      "Presolve removed 5 rows and 7 columns\r\n",
      "Presolve time: 0.00s\r\n",
      "Presolved: 2 rows, 1 columns, 2 nonzeros\r\n",
      "\r\n",
      "Iteration    Objective       Primal Inf.    Dual Inf.      Time\r\n",
      "       0    5.0000000e+00   0.000000e+00   0.000000e+00      0s\r\n",
      "       0    5.0000000e+00   0.000000e+00   0.000000e+00      0s\r\n",
      "\r\n",
      "Solved in 0 iterations and 0.00 seconds\r\n",
      "Optimal objective  5.000000000e+00\r\n",
      "\r\n",
      "\r\n",
      "---------------------------\r\n",
      "Cost:  5.0\r\n"
     ]
    }
   ],
   "source": [
    "!python min_cost_flow.py"
   ]
  }
 ],
 "metadata": {
  "kernelspec": {
   "display_name": "Python 3",
   "language": "python",
   "name": "python3"
  },
  "language_info": {
   "codemirror_mode": {
    "name": "ipython",
    "version": 3
   },
   "file_extension": ".py",
   "mimetype": "text/x-python",
   "name": "python",
   "nbconvert_exporter": "python",
   "pygments_lexer": "ipython3",
   "version": "3.11.5"
  }
 },
 "nbformat": 4,
 "nbformat_minor": 1
}
